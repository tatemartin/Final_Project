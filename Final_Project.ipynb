{
  "nbformat": 4,
  "nbformat_minor": 0,
  "metadata": {
    "colab": {
      "provenance": [],
      "toc_visible": true,
      "authorship_tag": "ABX9TyM8lvnYP7e0kBtGAN/BKgk1",
      "include_colab_link": true
    },
    "kernelspec": {
      "name": "python3",
      "display_name": "Python 3"
    },
    "language_info": {
      "name": "python"
    }
  },
  "cells": [
    {
      "cell_type": "markdown",
      "metadata": {
        "id": "view-in-github",
        "colab_type": "text"
      },
      "source": [
        "<a href=\"https://colab.research.google.com/github/tatemartin/Final_Project/blob/main/Final_Project.ipynb\" target=\"_parent\"><img src=\"https://colab.research.google.com/assets/colab-badge.svg\" alt=\"Open In Colab\"/></a>"
      ]
    },
    {
      "cell_type": "code",
      "execution_count": 2,
      "metadata": {
        "id": "v_Vwf49Q6CFd"
      },
      "outputs": [],
      "source": [
        "import pandas as pd\n",
        "import matplotlib.pyplot as plt\n",
        "import re"
      ]
    },
    {
      "cell_type": "code",
      "source": [
        "import urllib.request\n",
        "hand = urllib.request.urlopen('https://en.wikipedia.org/wiki/Shrek')\n",
        "...\n",
        "def ascii_histogram(seq) -> None:\n",
        "  counted = count_elements(seq)\n",
        "  for key in sorted(counted):\n",
        "    count = counted[key]\n",
        "    print(f'{key} is found {count} times')\n",
        "\n",
        "def count_elements(seq):\n",
        "  hist = dict()\n",
        "  for date in seq:\n",
        "    hist[date] = hist.get(date,0)+ 1\n",
        "  return hist\n",
        "\n",
        "#How many time does the word \"Shrek appear?\"\n",
        "# shrek = []\n",
        "# for line in hand:\n",
        "#   line = line.decode().strip()\n",
        "#   shrek.extend(re.findall('Shrek',line))\n",
        "\n",
        "# ascii_histogram(shrek)\n",
        "#1080 times\n",
        "\n",
        "#How many times does the work \"Donkey\" appear?\n",
        "# donkey = []\n",
        "# for line in hand:\n",
        "#   line = line.decode().strip()\n",
        "#   donkey.extend(re.findall('Donkey',line))\n",
        "\n",
        "# ascii_histogram(donkey)\n",
        "#45 times\n",
        "\n",
        "#Which date is found the most?\n",
        "# dates = []\n",
        "# for line in hand:\n",
        "#   line = line.decode().strip()\n",
        "#   dates.extend(re.findall('((19|20)[0-9]{2})',line))\n",
        "\n",
        "# ascii_histogram(dates)\n",
        "#2001 is found the most (393 times), this makes since as it was the release date."
      ],
      "metadata": {
        "id": "lA6az2NAAnw8"
      },
      "execution_count": 64,
      "outputs": []
    }
  ]
}